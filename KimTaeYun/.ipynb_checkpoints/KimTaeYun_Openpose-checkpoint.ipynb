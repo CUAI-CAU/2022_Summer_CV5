{
 "cells": [
  {
   "cell_type": "markdown",
   "metadata": {
    "id": "xUnKOQxv9MiB"
   },
   "source": [
    "#OPENCV 재설치 코드\n",
    "GPU를 사용하기 위해 해당 과정을 거침\n",
    "(opencv 최신 버전 설치 별도 필요)"
   ]
  },
  {
   "cell_type": "code",
   "execution_count": 1,
   "metadata": {
    "colab": {
     "base_uri": "https://localhost:8080/"
    },
    "id": "Gd0pEPZ00u9I",
    "outputId": "4921782e-ae5c-4263-d9a0-8c7cfe6010fc"
   },
   "outputs": [],
   "source": [
    "import os, sys"
   ]
  },
  {
   "cell_type": "code",
   "execution_count": null,
   "metadata": {
    "colab": {
     "base_uri": "https://localhost:8080/"
    },
    "id": "XX1I8rw6zzWM",
    "outputId": "adaf983c-1cf2-4f74-8264-24041ff5b681"
   },
   "outputs": [
    {
     "name": "stdout",
     "output_type": "stream",
     "text": [
      "Found existing installation: opencv-python 4.1.2.30\n",
      "Uninstalling opencv-python-4.1.2.30:\n",
      "  Would remove:\n",
      "    /usr/local/lib/python3.7/dist-packages/cv2/*\n",
      "    /usr/local/lib/python3.7/dist-packages/opencv_python-4.1.2.30.dist-info/*\n",
      "Proceed (y/n)? y\n",
      "  Successfully uninstalled opencv-python-4.1.2.30\n",
      "/content/drive/MyDrive/cv2_gpu\n"
     ]
    }
   ],
   "source": [
    "!pip uninstall opencv-python\n",
    "%cd /content/drive/MyDrive/cv2_gpu\n",
    "!cp cv2.cpython-37m-x86_64-linux-gnu.so /usr/local/lib/python3.6/dist-packages"
   ]
  },
  {
   "cell_type": "code",
   "execution_count": 1,
   "metadata": {
    "colab": {
     "base_uri": "https://localhost:8080/"
    },
    "id": "smXf3U-Rz69X",
    "outputId": "09e91cf7-06e9-4edf-fcfb-c7d4d4d35172"
   },
   "outputs": [
    {
     "name": "stdout",
     "output_type": "stream",
     "text": [
      "4.0.1\n",
      "0\n"
     ]
    }
   ],
   "source": [
    "import cv2\n",
    "import os, sys\n",
    "#from google.colab.patches import cv2_imshow\n",
    "\n",
    "#PATH = '/content/drive/MyDrive/openpose-master/models/pose/mpi'\n",
    "print(cv2.__version__)\n",
    "print(cv2.cuda.getCudaEnabledDeviceCount())"
   ]
  },
  {
   "cell_type": "markdown",
   "metadata": {
    "id": "vNrktn43XGCA"
   },
   "source": [
    "#bodypart "
   ]
  },
  {
   "cell_type": "code",
   "execution_count": 2,
   "metadata": {
    "id": "-zsPeTkdXEhj"
   },
   "outputs": [],
   "source": [
    "BODY_PARTS_BODY_25 = {0: \"Nose\", 1: \"Neck\", 2: \"RShoulder\", 3: \"RElbow\", 4: \"RWrist\",\n",
    "                      5: \"LShoulder\", 6: \"LElbow\", 7: \"LWrist\", 8: \"MidHip\", 9: \"RHip\",\n",
    "                      10: \"RKnee\", 11: \"RAnkle\", 12: \"LHip\", 13: \"LKnee\", 14: \"LAnkle\",\n",
    "                      15: \"REye\", 16: \"LEye\", 17: \"REar\", 18: \"LEar\", 19: \"LBigToe\",\n",
    "                      20: \"LSmallToe\", 21: \"LHeel\", 22: \"RBigToe\", 23: \"RSmallToe\", 24: \"RHeel\", 25: \"Background\"}\n",
    "\n",
    "POSE_PAIRS_BODY_25 = [[0, 1], [0, 15], [0, 16], [1, 2], [1, 5], [1, 8], [8, 9], [8, 12], [9, 10], [12, 13], [2, 3],\n",
    "                      [3, 4], [5, 6], [6, 7], [10, 11], [13, 14], [15, 17], [16, 18], [14, 21], [19, 21], [20, 21],\n",
    "                      [11, 24], [22, 24], [23, 24]]"
   ]
  },
  {
   "cell_type": "code",
   "execution_count": 3,
   "metadata": {
    "colab": {
     "base_uri": "https://localhost:8080/"
    },
    "id": "lgSYHTC4XESc",
    "outputId": "566b0c61-0911-4612-fce2-440ec88cd6f8"
   },
   "outputs": [
    {
     "data": {
      "text/plain": [
       "5.0"
      ]
     },
     "execution_count": 3,
     "metadata": {},
     "output_type": "execute_result"
    }
   ],
   "source": [
    "def getDistance(a, b):\n",
    "  ax, ay = a\n",
    "  bx, by = b\n",
    "\n",
    "  dist = float((ax-bx)**2 + (ay-by)**2)**(0.5)\n",
    "  return dist \n",
    "\n",
    "getDistance((0, 4), (3, 0))"
   ]
  },
  {
   "cell_type": "code",
   "execution_count": 4,
   "metadata": {
    "id": "1E4POWhzXEV8"
   },
   "outputs": [
    {
     "ename": "AttributeError",
     "evalue": "module 'cv2.dnn' has no attribute 'DNN_BACKEND_CUDA'",
     "output_type": "error",
     "traceback": [
      "\u001b[1;31m---------------------------------------------------------------------------\u001b[0m",
      "\u001b[1;31mAttributeError\u001b[0m                            Traceback (most recent call last)",
      "\u001b[1;32m<ipython-input-4-da700c0dae91>\u001b[0m in \u001b[0;36m<module>\u001b[1;34m\u001b[0m\n\u001b[0;32m      7\u001b[0m \u001b[1;31m# 위의 path에 있는 network 불러오기\u001b[0m\u001b[1;33m\u001b[0m\u001b[1;33m\u001b[0m\u001b[1;33m\u001b[0m\u001b[0m\n\u001b[0;32m      8\u001b[0m \u001b[0mnet\u001b[0m \u001b[1;33m=\u001b[0m \u001b[0mcv2\u001b[0m\u001b[1;33m.\u001b[0m\u001b[0mdnn\u001b[0m\u001b[1;33m.\u001b[0m\u001b[0mreadNetFromCaffe\u001b[0m\u001b[1;33m(\u001b[0m\u001b[0mprotoFile\u001b[0m\u001b[1;33m,\u001b[0m \u001b[0mweightsFile\u001b[0m\u001b[1;33m)\u001b[0m\u001b[1;33m\u001b[0m\u001b[1;33m\u001b[0m\u001b[0m\n\u001b[1;32m----> 9\u001b[1;33m \u001b[0mnet\u001b[0m\u001b[1;33m.\u001b[0m\u001b[0msetPreferableBackend\u001b[0m\u001b[1;33m(\u001b[0m\u001b[0mcv2\u001b[0m\u001b[1;33m.\u001b[0m\u001b[0mdnn\u001b[0m\u001b[1;33m.\u001b[0m\u001b[0mDNN_BACKEND_CUDA\u001b[0m\u001b[1;33m)\u001b[0m\u001b[1;33m\u001b[0m\u001b[1;33m\u001b[0m\u001b[0m\n\u001b[0m\u001b[0;32m     10\u001b[0m \u001b[0mnet\u001b[0m\u001b[1;33m.\u001b[0m\u001b[0msetPreferableTarget\u001b[0m\u001b[1;33m(\u001b[0m\u001b[0mcv2\u001b[0m\u001b[1;33m.\u001b[0m\u001b[0mdnn\u001b[0m\u001b[1;33m.\u001b[0m\u001b[0mDNN_TARGET_CUDA\u001b[0m\u001b[1;33m)\u001b[0m\u001b[1;33m\u001b[0m\u001b[1;33m\u001b[0m\u001b[0m\n",
      "\u001b[1;31mAttributeError\u001b[0m: module 'cv2.dnn' has no attribute 'DNN_BACKEND_CUDA'"
     ]
    }
   ],
   "source": [
    "# 각 파일 path\n",
    "protoFile = \"body25/pose_deploy.prototxt\"\n",
    "weightsFile = \"body25/pose_iter_584000.caffemodel\"\n",
    "\n",
    "imageFolder = \"/content/drive/MyDrive/people_pose\"\n",
    " \n",
    "# 위의 path에 있는 network 불러오기\n",
    "net = cv2.dnn.readNetFromCaffe(protoFile, weightsFile)\n",
    "net.setPreferableBackend(cv2.dnn.DNN_BACKEND_CUDA)\n",
    "net.setPreferableTarget(cv2.dnn.DNN_TARGET_CUDA)"
   ]
  },
  {
   "cell_type": "code",
   "execution_count": null,
   "metadata": {
    "id": "XWq0b4D8UGZV"
   },
   "outputs": [],
   "source": [
    "def pointCoord(image):\n",
    "  Image = image\n",
    "  imageHeight, imageWidth, _ = Image.shape\n",
    "  \n",
    "  # network에 넣기위해 전처리\n",
    "  inpBlob = cv2.dnn.blobFromImage(image, 1.0 / 255, (imageWidth, imageHeight), (0, 0, 0), swapRB=False, crop=False)\n",
    "  \n",
    "  # network에 넣어주기\n",
    "  net.setInput(inpBlob)\n",
    "\n",
    "  # 결과 받아오기\n",
    "  output = net.forward()\n",
    "\n",
    "  # output.shape[0] = 이미지 ID, [1] = 출력 맵의 높이, [2] = 너비\n",
    "  H = output.shape[2]\n",
    "  W = output.shape[3]\n",
    "  # print(\"이미지 ID : \", len(output[0]), \", H : \", output.shape[2], \", W : \",output.shape[3]) # 이미지 ID\n",
    "\n",
    "  # 키포인트 검출시 좌표 추가\n",
    "  points = []\n",
    "  for i in range(0,15):\n",
    "      # 해당 신체부위 신뢰도 얻음.\n",
    "      probMap = output[0, i, :, :]\n",
    "  \n",
    "      # global 최대값 찾기\n",
    "      minVal, prob, minLoc, point = cv2.minMaxLoc(probMap)\n",
    "\n",
    "      # 원래 이미지에 맞게 점 위치 변경\n",
    "      x = (imageWidth * point[0]) / W\n",
    "      y = (imageHeight * point[1]) / H\n",
    "\n",
    "      # 키포인트 검출한 결과가 0.1보다 크면(검출한곳이 위 BODY_PARTS랑 맞는 부위면) points에 추가, 검출했는데 부위가 없으면 None으로    \n",
    "      if prob > 0.1 :    \n",
    "          points.append((int(x), int(y)))\n",
    "      else :\n",
    "          points.append(None)\n",
    "\n",
    "  return points"
   ]
  },
  {
   "cell_type": "code",
   "execution_count": null,
   "metadata": {
    "id": "1Anlc0KocVw7"
   },
   "outputs": [],
   "source": [
    "class WalkFrame:\n",
    "  points = ()\n",
    "  frame = None\n",
    "  fps = None\n",
    "  Rvelocity, Lvelocity = 0.0, 0.0\n",
    "  Rflag, Lflag = False, False\n",
    "  def __init__(self, frame, fps):\n",
    "    self.frame = frame\n",
    "    self.points = pointCoord(self.frame)\n",
    "    self.fps = fps\n",
    "\n",
    "  def getVelocity(self, otherf):\n",
    "    if self.points[10] is None or otherf.points[10] is None:\n",
    "      self.Rvelocity = None\n",
    "    else:\n",
    "      self.Rvelocity = getDistance(self.points[10] , otherf.points[10]) / self.fps\n",
    "\n",
    "    if self.points[13] is None or otherf.points[13] is None:\n",
    "      Lvelocity = None\n",
    "    else:\n",
    "      self.Lvelocity = getDistance(self.points[13] , otherf.points[13]) / self.fps\n",
    "    #왼발과 오른발의 속도를 얻음\n",
    "    if self.Rvelocity == 0.0:\n",
    "      Rflag = True \n",
    "    if self.Lvelocity == 0.0:\n",
    "      Lflag = True\n",
    "\n",
    "  def drawIt(self):\n",
    "    color = (0, 255, 255) #기본값은 노랑색\n",
    "    red = (0, 0, 255)\n",
    "\n",
    "    for i in range(0, 15):\n",
    "      coord = self.points[i]\n",
    "      \n",
    "      if self.points[i] is not None:\n",
    "        if (i==10 and self.Rflag) or (i==13 and self.Lflag):\n",
    "          cv2.circle(self.frame, coord, 3, (0,0,255), thickness=-1, lineType=cv2.FILLED)\n",
    "\n",
    "        else:\n",
    "          cv2.circle(self.frame, coord, 3, (0, 255, 255), thickness=-1, lineType=cv2.FILLED)\n",
    "        #왼발이나 오른발이 기준보다 속도가 느리다면, 점의 색상을 빨간색으로 바꿈.\n",
    "\n",
    "        \n",
    "\n",
    "      else:\n",
    "        pass\n",
    "\n",
    "    for pair in POSE_PAIRS:\n",
    "      partA = pair[0]             \n",
    "      partB = pair[1]             # 각 파트의 이름\n",
    "      partA = BODY_PARTS[partA]   \n",
    "      partB = BODY_PARTS[partB]   # 각 파트에 해당하는 번호\n",
    "      \n",
    "      #print(partA,\" 와 \", partB, \" 연결\\n\")\n",
    "      if self.points[partA] and self.points[partB]:\n",
    "          cv2.line(self.frame, self.points[partA], self.points[partB], (0, 255, 0), 2)\n"
   ]
  },
  {
   "cell_type": "code",
   "execution_count": null,
   "metadata": {
    "id": "alGmogm2UI-X"
   },
   "outputs": [],
   "source": [
    "#각 프레임마다 좌표를 찍어 밖으로 내보냄\n",
    "\n",
    "def pointing(vdo):\n",
    "  video = vdo\n",
    "  video_frame=video.get(cv2.CAP_PROP_FPS)\n",
    "\n",
    "  CoordImage = [] # 좌표찍은 프레임들\n",
    "  while video.isOpened():\n",
    "    run, frame = video.read()\n",
    "    if not run:\n",
    "      print(\"종료\")\n",
    "      break\n",
    "    CoordImage.append(WalkFrame(frame, video_frame))\n",
    "\n",
    "  for i in range(1, len(CoordImage)):\n",
    "    CoordImage[i].getVelocity(CoordImage[i-1])\n",
    "\n",
    "  return CoordImage"
   ]
  },
  {
   "cell_type": "code",
   "execution_count": null,
   "metadata": {
    "colab": {
     "background_save": true
    },
    "id": "qm2l45WiWX6D"
   },
   "outputs": [],
   "source": [
    "#for test\n",
    "\n",
    "imageFolder = \"/content/drive/MyDrive/people_pose\"\n",
    "videoPath = \"/walk.mp4\"\n",
    "Video = cv2.VideoCapture(videoPath)\n",
    "video_width=Video.get(cv2.CAP_PROP_FRAME_WIDTH)\n",
    "video_height=Video.get(cv2.CAP_PROP_FRAME_HEIGHT)\n",
    "video_frame=Video.get(cv2.CAP_PROP_FPS)\n",
    "\n",
    "frames = pointing(Video)\n",
    "\n",
    "fourcc = cv2.VideoWriter_fourcc(*'DIVX')\n",
    "output = cv2.VideoWriter(imageFolder +\"/testwalk.avi\", fourcc, int(video_frame), (int(video_width), int(video_height)))\n",
    "\n",
    "for frame in frames:\n",
    "  frame.drawIt()\n",
    "  print(frame.Rflag, frame.Lflag)\n",
    "  output.write(frame.frame)\n",
    "# 속도 측정해서 출력, 그려서 output에 내보냄\n",
    "\n",
    "output.release() #마무리하고 내보냄\n",
    "\n",
    "\n",
    "\n",
    "\n"
   ]
  }
 ],
 "metadata": {
  "accelerator": "GPU",
  "colab": {
   "collapsed_sections": [],
   "name": "openpose__18keypoint의 사본",
   "provenance": []
  },
  "gpuClass": "standard",
  "kernelspec": {
   "display_name": "Python 3",
   "language": "python",
   "name": "python3"
  },
  "language_info": {
   "codemirror_mode": {
    "name": "ipython",
    "version": 3
   },
   "file_extension": ".py",
   "mimetype": "text/x-python",
   "name": "python",
   "nbconvert_exporter": "python",
   "pygments_lexer": "ipython3",
   "version": "3.8.8"
  }
 },
 "nbformat": 4,
 "nbformat_minor": 1
}
