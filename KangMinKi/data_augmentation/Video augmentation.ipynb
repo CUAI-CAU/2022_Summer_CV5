{
 "cells": [
  {
   "cell_type": "markdown",
   "id": "43d3aa07",
   "metadata": {},
   "source": [
    "# Video Augmentation\n",
    "\n",
    "참고 : \n",
    "\n",
    "- https://github.com/Rafalves883/Video-Augmentation\n",
    "- https://www.tensorflow.org/tutorials/images/data_augmentation?hl=ko\n",
    "\n",
    "# Step\n",
    "\n",
    "1. video frames stored as images ndarrys\n",
    "2. image preprocessing (mostly, image rotation)\n",
    "3. images into video"
   ]
  },
  {
   "cell_type": "markdown",
   "id": "a24a33cf",
   "metadata": {},
   "source": [
    "## 실행\n",
    "vid_aug(증강할 영상 경로, 생성된 영상 이름과 경로) 실행해주면 됨.\n",
    "\n",
    "## 변경\n",
    "random degree 범위는 random_rotation1() 에서 random.uniform(-%,%) 으로 설정하면 됨."
   ]
  },
  {
   "cell_type": "code",
   "execution_count": 1,
   "id": "e9eeeb84",
   "metadata": {},
   "outputs": [],
   "source": [
    "import random\n",
    "from scipy import ndarray\n",
    "import skimage as sk\n",
    "from skimage import transform\n",
    "from skimage import util\n",
    "import cv2\n",
    "from skimage import data\n",
    "import warnings\n",
    "from skimage import filters\n",
    "from skimage import color\n",
    "from skimage import exposure\n",
    "from skimage.transform import rotate\n",
    "from skimage.transform import warp\n",
    "from skimage.transform import ProjectiveTransform\n",
    "from skimage.transform import AffineTransform\n",
    "import math\n",
    "import numpy as np\n",
    "import matplotlib.pyplot as plt\n",
    "import numpy as np\n",
    "import tensorflow as tf\n",
    "\n",
    "from tensorflow.keras import layers\n",
    "import tensorflow_addons as tfa"
   ]
  },
  {
   "cell_type": "code",
   "execution_count": 2,
   "id": "9cabc929",
   "metadata": {},
   "outputs": [],
   "source": [
    "#turns video into frames\n",
    "#frame rate 조절해서 프레임 수 바꾸기(30으로 설정한 이유는 fps값이 29.9이기 때문)\n",
    "def get_frames(video_path, frameRate=1/29):\n",
    "    vidcap = cv2.VideoCapture(video_path)\n",
    "    def getFrame(sec):\n",
    "        vidcap.set(cv2.CAP_PROP_POS_MSEC,sec*1000)\n",
    "        hasFrames,image = vidcap.read()\n",
    "        return hasFrames, image\n",
    "    images= []\n",
    "    sec = 0\n",
    "    count=1\n",
    "    success = getFrame(sec)\n",
    "    while success:\n",
    "        count = count + 1\n",
    "        sec = sec + frameRate\n",
    "        sec = round(sec, 2)\n",
    "        success, imagem = getFrame(sec)\n",
    "        images.append(imagem)\n",
    "    return images"
   ]
  },
  {
   "cell_type": "code",
   "execution_count": 3,
   "id": "1a78846c",
   "metadata": {},
   "outputs": [],
   "source": [
    "def random_rotation1(images):\n",
    "    def random_rotation(image_array, random_degree):\n",
    "        # pick a random degree of rotation between 25% on the left and 25% on the right\n",
    "        return sk.transform.rotate(image_array, random_degree)\n",
    "    img_arroi=[]\n",
    "    random_degree = random.uniform(-25, 25)\n",
    "    for i in range(len(images)-1):\n",
    "        image_with_random_noise = random_rotation(images[i],random_degree)\n",
    "        image_with_random_noise =(image_with_random_noise *255).astype(np.uint8)\n",
    "        img_arroi.append(image_with_random_noise)\n",
    "    return img_arroi"
   ]
  },
  {
   "cell_type": "code",
   "execution_count": 9,
   "id": "afd00487",
   "metadata": {},
   "outputs": [],
   "source": [
    "def turn_video(video_name, frames):\n",
    "    video_height, video_width, l = frames[0].shape\n",
    "    \n",
    "    fourcc = cv2.VideoWriter_fourcc(*'DIVX')\n",
    "    out = cv2.VideoWriter(video_name, fourcc,29, (int(video_width), int(video_height)))\n",
    "    \n",
    "    for frame in frames:\n",
    "        out.write(frame)\n",
    "    out.release()"
   ]
  },
  {
   "cell_type": "code",
   "execution_count": 12,
   "id": "3ec2a11b",
   "metadata": {},
   "outputs": [],
   "source": [
    "def vid_aug(origin_video_path, output_video_path):\n",
    "    file = origin_video_path\n",
    "    frames = get_frames(file)\n",
    "    rot_frames = random_rotation1(frames)\n",
    "    turn_vid = turn_video(output_video_path,rot_frames)\n",
    "    return turn_vid\n",
    "    "
   ]
  },
  {
   "cell_type": "code",
   "execution_count": 14,
   "id": "c4859be1",
   "metadata": {
    "scrolled": true
   },
   "outputs": [],
   "source": [
    "vid_aug('origin/abnormal_gait1.mp4','outputs/rand2.avi')"
   ]
  },
  {
   "cell_type": "markdown",
   "id": "bdff2de6",
   "metadata": {},
   "source": [
    "## 사용가능한 다른 aug 기법\n",
    "\n",
    "- flip\n",
    "- degree custom rotate\n",
    "- invert\n",
    "- add(모든 픽셀 값에 특정 값 더하기)\n",
    "- pepper (black point)\n",
    "- salt (white point)\n",
    "- speed"
   ]
  },
  {
   "cell_type": "code",
   "execution_count": 12,
   "id": "981a48e8",
   "metadata": {},
   "outputs": [],
   "source": [
    "#원래는 param 이 clip이었는데 images로 바꾸어놓았음.\n",
    "def random_noise_v(images):\n",
    "    from skimage.util import random_noise\n",
    "    img_array=[]\n",
    "    for i in range(len(images)-1):\n",
    "        image_with_random_noise = random_noise(images[i])\n",
    "        img_array.append(image_with_random_noise)\n",
    "    return img_array"
   ]
  },
  {
   "cell_type": "code",
   "execution_count": 19,
   "id": "101c9564",
   "metadata": {},
   "outputs": [],
   "source": [
    "def gaussian_b(images, intensity=0.75, depth=1):\n",
    "    def gaussian(X, intensity=0.75, depth=1):\n",
    "        indices_gaussian = np.random.choice(\n",
    "            X.shape[0], math.ceil(X.shape[0] * depth), replace=False)\n",
    "        X_=[]\n",
    "        for k in indices_gaussian:\n",
    "            sigma_=uniform(1-intensity,intensity)\n",
    "            X_.append(filters.gaussian(X[k], sigma=sigma_, multichannel=True))\n",
    "        return np.asarray(X_)\n",
    "    img_arrai=[]\n",
    "    for i in range(len(images)-1):\n",
    "        image_with_random_noise = gaussian(images[i],intensity,depth)\n",
    "        img_arrai.append(image_with_random_noise)\n",
    "    return img_arrai"
   ]
  },
  {
   "cell_type": "code",
   "execution_count": 98,
   "id": "40986bec",
   "metadata": {},
   "outputs": [],
   "source": [
    "#degree custom rotate 함수 만듦.\n",
    "def rotation(images, degree):\n",
    "    img_arr = []\n",
    "    for i in range(len(images)):\n",
    "        rot_img = sk.transform.rotate(images[i],degree)\n",
    "        img_arr.append(rot_img)\n",
    "    return img_arr"
   ]
  },
  {
   "cell_type": "code",
   "execution_count": 10,
   "id": "eb4afd7d",
   "metadata": {},
   "outputs": [],
   "source": [
    "def random_rotation1(images):\n",
    "    def random_rotation(image_array, random_degree):\n",
    "        # pick a random degree of rotation between 25% on the left and 25% on the right\n",
    "        return sk.transform.rotate(image_array, random_degree)\n",
    "    img_arroi=[]\n",
    "    random_degree = random.uniform(-25, 25)\n",
    "    for i in range(len(images)-1):\n",
    "        image_with_random_noise = random_rotation(images[i],random_degree)\n",
    "        img_arroi.append(image_with_random_noise)\n",
    "    return img_arroi"
   ]
  },
  {
   "cell_type": "code",
   "execution_count": 7,
   "id": "1409f3b9",
   "metadata": {},
   "outputs": [],
   "source": [
    "#horizontal flip de video\n",
    "def flip(images):\n",
    "    def horizontal_flip(image_array):\n",
    "        # horizontal flip doesn't need skimage, it's easy as flipping the image array of pixels !\n",
    "        return image_array[:, ::-1]\n",
    "    img_arrei=[]\n",
    "    for i in range(len(images)-1):\n",
    "        image_with_random_noise = horizontal_flip(images[i])\n",
    "        img_arrei.append(image_with_random_noise)\n",
    "    return img_arrei"
   ]
  },
  {
   "cell_type": "code",
   "execution_count": 8,
   "id": "c78da397",
   "metadata": {},
   "outputs": [],
   "source": [
    "#invert video color\n",
    "def invert(images):\n",
    "    img_arrui=[]\n",
    "    for i in range(len(images)-1):\n",
    "        image_with_random_noise = np.invert(images[i])\n",
    "        img_arrui.append(image_with_random_noise)\n",
    "    return img_arrui"
   ]
  },
  {
   "cell_type": "code",
   "execution_count": 9,
   "id": "c112e4c1",
   "metadata": {},
   "outputs": [],
   "source": [
    "#add value to all pixels\n",
    "def add(images, value):\n",
    "    data_final = []\n",
    "    for i in range(len(images)-1):\n",
    "        image = images[i].astype(np.int32)\n",
    "        image += value\n",
    "        image = np.where(image > 255, 255, image)\n",
    "        image = np.where(image < 0, 0, image)\n",
    "        image = image.astype(np.uint8)\n",
    "        data_final.append(image.astype(np.uint8))\n",
    "    return data_final"
   ]
  },
  {
   "cell_type": "code",
   "execution_count": 10,
   "id": "919846dc",
   "metadata": {},
   "outputs": [],
   "source": [
    "#apply random black points on the video\n",
    "def pepper(images):\n",
    "    dota_final = []\n",
    "    for i in range(len(images)-1):\n",
    "        img = images[i].astype(np.float)\n",
    "        img_shape = img.shape\n",
    "        noise = np.random.randint(30, size=img_shape)\n",
    "        img = np.where(noise == 0, 0, img)\n",
    "        dota_final.append(img.astype(np.uint8))\n",
    "    return dota_final"
   ]
  },
  {
   "cell_type": "code",
   "execution_count": 18,
   "id": "653bff58",
   "metadata": {},
   "outputs": [],
   "source": [
    "#apply random white points on the video\n",
    "def salt(images):\n",
    "    deta_final = []\n",
    "    for i in range(len(images)-1):\n",
    "        img = images[i].astype(np.float64)\n",
    "        img_shape = img.shape\n",
    "        noise = np.random.randint(30, size=img_shape)\n",
    "        img = np.where(noise == 0, 255, img)\n",
    "        deta_final.append(img.astype(np.uint8))\n",
    "    return deta_final"
   ]
  },
  {
   "cell_type": "code",
   "execution_count": 12,
   "id": "08553c7a",
   "metadata": {},
   "outputs": [],
   "source": [
    "#if 0<ratio<1, speed up video, else 1<ratio<infinity, slows up the video\n",
    "def changesample(clip, ratio):\n",
    "        nb_return_frame = np.floor(ratio * len(clip))\n",
    "        return_ind = [int(i) for i in np.linspace(1, len(clip), num=nb_return_frame)]\n",
    "        return [clip[i-1] for i in return_ind]"
   ]
  }
 ],
 "metadata": {
  "kernelspec": {
   "display_name": "Python 3 (ipykernel)",
   "language": "python",
   "name": "python3"
  },
  "language_info": {
   "codemirror_mode": {
    "name": "ipython",
    "version": 3
   },
   "file_extension": ".py",
   "mimetype": "text/x-python",
   "name": "python",
   "nbconvert_exporter": "python",
   "pygments_lexer": "ipython3",
   "version": "3.9.7"
  }
 },
 "nbformat": 4,
 "nbformat_minor": 5
}
